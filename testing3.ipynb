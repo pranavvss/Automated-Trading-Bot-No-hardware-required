{
 "cells": [
  {
   "cell_type": "code",
   "execution_count": 7,
   "metadata": {},
   "outputs": [],
   "source": [
    "# Import necessary libraries\n",
    "import yfinance as yf\n",
    "import pandas as pd\n",
    "import numpy as np\n",
    "from sklearn.preprocessing import MinMaxScaler\n",
    "from keras.models import Sequential\n",
    "from keras.layers import Dense, LSTM\n",
    "from vaderSentiment.vaderSentiment import SentimentIntensityAnalyzer\n",
    "import matplotlib.pyplot as plt\n",
    "import seaborn as sns\n",
    "import requests\n",
    "from newsapi import NewsApiClient\n"
   ]
  },
  {
   "cell_type": "code",
   "execution_count": 8,
   "metadata": {},
   "outputs": [
    {
     "name": "stderr",
     "output_type": "stream",
     "text": [
      "[*********************100%***********************]  1 of 1 completed\n"
     ]
    }
   ],
   "source": [
    "# Download historical data for Apple (AAPL) for the last 4 years\n",
    "data = yf.download(\"AAPL\", start=\"2020-01-01\", end=\"2023-12-31\")"
   ]
  },
  {
   "cell_type": "code",
   "execution_count": 9,
   "metadata": {},
   "outputs": [
    {
     "data": {
      "text/html": [
       "<div>\n",
       "<style scoped>\n",
       "    .dataframe tbody tr th:only-of-type {\n",
       "        vertical-align: middle;\n",
       "    }\n",
       "\n",
       "    .dataframe tbody tr th {\n",
       "        vertical-align: top;\n",
       "    }\n",
       "\n",
       "    .dataframe thead th {\n",
       "        text-align: right;\n",
       "    }\n",
       "</style>\n",
       "<table border=\"1\" class=\"dataframe\">\n",
       "  <thead>\n",
       "    <tr style=\"text-align: right;\">\n",
       "      <th></th>\n",
       "      <th>Open</th>\n",
       "      <th>High</th>\n",
       "      <th>Low</th>\n",
       "      <th>Close</th>\n",
       "      <th>Adj Close</th>\n",
       "      <th>Volume</th>\n",
       "    </tr>\n",
       "    <tr>\n",
       "      <th>Date</th>\n",
       "      <th></th>\n",
       "      <th></th>\n",
       "      <th></th>\n",
       "      <th></th>\n",
       "      <th></th>\n",
       "      <th></th>\n",
       "    </tr>\n",
       "  </thead>\n",
       "  <tbody>\n",
       "    <tr>\n",
       "      <th>2020-01-02</th>\n",
       "      <td>74.059998</td>\n",
       "      <td>75.150002</td>\n",
       "      <td>73.797501</td>\n",
       "      <td>75.087502</td>\n",
       "      <td>72.876106</td>\n",
       "      <td>135480400</td>\n",
       "    </tr>\n",
       "    <tr>\n",
       "      <th>2020-01-03</th>\n",
       "      <td>74.287498</td>\n",
       "      <td>75.144997</td>\n",
       "      <td>74.125000</td>\n",
       "      <td>74.357498</td>\n",
       "      <td>72.167610</td>\n",
       "      <td>146322800</td>\n",
       "    </tr>\n",
       "    <tr>\n",
       "      <th>2020-01-06</th>\n",
       "      <td>73.447502</td>\n",
       "      <td>74.989998</td>\n",
       "      <td>73.187500</td>\n",
       "      <td>74.949997</td>\n",
       "      <td>72.742661</td>\n",
       "      <td>118387200</td>\n",
       "    </tr>\n",
       "    <tr>\n",
       "      <th>2020-01-07</th>\n",
       "      <td>74.959999</td>\n",
       "      <td>75.224998</td>\n",
       "      <td>74.370003</td>\n",
       "      <td>74.597504</td>\n",
       "      <td>72.400528</td>\n",
       "      <td>108872000</td>\n",
       "    </tr>\n",
       "    <tr>\n",
       "      <th>2020-01-08</th>\n",
       "      <td>74.290001</td>\n",
       "      <td>76.110001</td>\n",
       "      <td>74.290001</td>\n",
       "      <td>75.797501</td>\n",
       "      <td>73.565193</td>\n",
       "      <td>132079200</td>\n",
       "    </tr>\n",
       "  </tbody>\n",
       "</table>\n",
       "</div>"
      ],
      "text/plain": [
       "                 Open       High        Low      Close  Adj Close     Volume\n",
       "Date                                                                        \n",
       "2020-01-02  74.059998  75.150002  73.797501  75.087502  72.876106  135480400\n",
       "2020-01-03  74.287498  75.144997  74.125000  74.357498  72.167610  146322800\n",
       "2020-01-06  73.447502  74.989998  73.187500  74.949997  72.742661  118387200\n",
       "2020-01-07  74.959999  75.224998  74.370003  74.597504  72.400528  108872000\n",
       "2020-01-08  74.290001  76.110001  74.290001  75.797501  73.565193  132079200"
      ]
     },
     "execution_count": 9,
     "metadata": {},
     "output_type": "execute_result"
    }
   ],
   "source": [
    "# Display the first few rows of the data\n",
    "data.head()"
   ]
  },
  {
   "cell_type": "code",
   "execution_count": 10,
   "metadata": {},
   "outputs": [],
   "source": [
    "# Function to fetch fundamental data\n",
    "def fetch_fundamental_data(ticker):\n",
    "    stock = yf.Ticker(ticker)\n",
    "    fundamentals = {}\n",
    "    try:\n",
    "        fundamentals['PE_Ratio'] = stock.info['trailingPE']\n",
    "        fundamentals['EPS'] = stock.info['trailingEps']\n",
    "        fundamentals['Revenue'] = stock.financials.loc['Total Revenue'].iloc[0]\n",
    "    except Exception as e:\n",
    "        print(\"Error fetching fundamental data:\", e)\n",
    "        fundamentals = None\n",
    "    return fundamentals\n",
    "\n",
    "# Fetch fundamental data for Apple\n",
    "fundamental_data = fetch_fundamental_data(\"AAPL\")\n"
   ]
  },
  {
   "cell_type": "code",
   "execution_count": 11,
   "metadata": {},
   "outputs": [],
   "source": [
    "# Function to fetch fundamental data\n",
    "def fetch_fundamental_data(ticker):\n",
    "    stock = yf.Ticker(ticker)\n",
    "    fundamentals = {}\n",
    "    try:\n",
    "        fundamentals['PE_Ratio'] = stock.info['trailingPE']\n",
    "        fundamentals['EPS'] = stock.info['trailingEps']\n",
    "        fundamentals['Revenue'] = stock.financials.loc['Total Revenue'].iloc[0]\n",
    "    except Exception as e:\n",
    "        print(\"Error fetching fundamental data:\", e)\n",
    "        fundamentals = None\n",
    "    return fundamentals\n",
    "\n",
    "# Fetch fundamental data for Apple\n",
    "fundamental_data = fetch_fundamental_data(\"AAPL\")"
   ]
  },
  {
   "cell_type": "code",
   "execution_count": 13,
   "metadata": {},
   "outputs": [],
   "source": [
    "# Function to perform sentiment analysis on news headlines\n",
    "def get_sentiment_from_news(news_list):\n",
    "    analyzer = SentimentIntensityAnalyzer()\n",
    "    sentiment_score = 0\n",
    "    for news in news_list:\n",
    "        sentiment = analyzer.polarity_scores(news)['compound']\n",
    "        sentiment_score += sentiment\n",
    "    return sentiment_score / len(news_list) if news_list else 0"
   ]
  },
  {
   "cell_type": "code",
   "execution_count": 14,
   "metadata": {},
   "outputs": [],
   "source": [
    "# Initialize the NewsAPI client with your API key\n",
    "newsapi = NewsApiClient(api_key='45144efccea34226afed83713f2c6547')  # Replace 'YOUR_API_KEY' with your actual NewsAPI key\n",
    "\n",
    "# Function to get news headlines from NewsAPI\n",
    "def fetch_news_headlines(ticker):\n",
    "    # Use NewsAPI to fetch news articles related to the ticker symbol\n",
    "    all_articles = newsapi.get_everything(q=ticker,\n",
    "                                          language='en',\n",
    "                                          sort_by='relevancy',\n",
    "                                          page_size=5)  # Adjust the number of articles as needed\n",
    "    \n",
    "    # Extract headlines from the articles\n",
    "    headlines = [article['title'] for article in all_articles['articles']]\n",
    "    \n",
    "    return headlines\n",
    "\n",
    "# Example usage\n",
    "news_headlines = fetch_news_headlines(\"AAPL\")\n",
    "print(news_headlines)"
   ]
  },
  {
   "cell_type": "code",
   "execution_count": 15,
   "metadata": {},
   "outputs": [],
   "source": [
    "# Fetch and analyze sentiment of news headlines\n",
    "news_headlines = fetch_news_headlines(\"AAPL\")\n",
    "news_sentiment = get_sentiment_from_news(news_headlines)"
   ]
  }
 ],
 "metadata": {
  "kernelspec": {
   "display_name": "newenv",
   "language": "python",
   "name": "python3"
  },
  "language_info": {
   "codemirror_mode": {
    "name": "ipython",
    "version": 3
   },
   "file_extension": ".py",
   "mimetype": "text/x-python",
   "name": "python",
   "nbconvert_exporter": "python",
   "pygments_lexer": "ipython3",
   "version": "3.12.5"
  }
 },
 "nbformat": 4,
 "nbformat_minor": 2
}
